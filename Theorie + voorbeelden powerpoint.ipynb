{
 "cells": [
  {
   "cell_type": "markdown",
   "metadata": {},
   "source": [
    "# Python advanced topics\n",
    "\n",
    "\n"
   ]
  },
  {
   "cell_type": "markdown",
   "metadata": {},
   "source": [
    "## Enumerate\n",
    "Je kunt een index tracking en een simpele for-loop combineren door gebruik te maken van `enumerate()`, waarbij je twee loop variabelen krijgt: het nummer van de huidige iteratie (meestal `i`) en de waarde van het item op die iteratie. Met het optionele start-argument kun je het startnummer van de index aanpassen zonder de items te beïnvloeden."
   ]
  },
  {
   "cell_type": "code",
   "execution_count": 1,
   "metadata": {},
   "outputs": [
    {
     "name": "stdout",
     "output_type": "stream",
     "text": [
      "Thomas\n",
      "Frank\n",
      "Dirk\n",
      "Johan\n"
     ]
    }
   ],
   "source": [
    "teachers=[\"Thomas\",\"Frank\",\"Dirk\",\"Johan\"]\n",
    "\n",
    "#Traditioneel list overlopen zonder index tracking\n",
    "for teacher in teachers:\n",
    "    print(teacher)"
   ]
  },
  {
   "cell_type": "code",
   "execution_count": 2,
   "metadata": {},
   "outputs": [
    {
     "name": "stdout",
     "output_type": "stream",
     "text": [
      "0 Thomas\n",
      "1 Frank\n",
      "2 Dirk\n",
      "3 Johan\n"
     ]
    }
   ],
   "source": [
    "#Traditioneel list overlopen met index tracking\n",
    "for i in range(len(teachers)):\n",
    "    print(i,teachers[i])"
   ]
  },
  {
   "cell_type": "code",
   "execution_count": 3,
   "metadata": {},
   "outputs": [
    {
     "name": "stdout",
     "output_type": "stream",
     "text": [
      "1 Thomas\n",
      "2 Frank\n",
      "3 Dirk\n",
      "4 Johan\n"
     ]
    }
   ],
   "source": [
    "#Traditioneel list overlopen met index tracking (+1)\n",
    "for i in range(len(teachers)):\n",
    "    print(i+1,teachers[i])"
   ]
  },
  {
   "cell_type": "code",
   "execution_count": 4,
   "metadata": {},
   "outputs": [
    {
     "name": "stdout",
     "output_type": "stream",
     "text": [
      "0 Thomas\n",
      "1 Frank\n",
      "2 Dirk\n",
      "3 Johan\n"
     ]
    }
   ],
   "source": [
    "#Gebruik van enumerate\n",
    "for i,teacher in enumerate(teachers):\n",
    "    print(i,teacher)"
   ]
  },
  {
   "cell_type": "code",
   "execution_count": 5,
   "metadata": {},
   "outputs": [
    {
     "name": "stdout",
     "output_type": "stream",
     "text": [
      "1 Thomas\n",
      "2 Frank\n",
      "3 Dirk\n",
      "4 Johan\n"
     ]
    }
   ],
   "source": [
    "#Gebruik van enumerate met startwaarde\n",
    "for i,teacher in enumerate(teachers,start=1):\n",
    "    print(i,teacher)"
   ]
  },
  {
   "cell_type": "markdown",
   "metadata": {},
   "source": [
    "## Zip\n",
    "Met de `zip()`-functie kun je elementen van twee of meer iterables samenvoegen door ze als het ware aan elkaar te \"ritsen\". <br><br>\n",
    "Als de lijsten niet even lang zijn, wordt het aantal elementen gelijk aan dat van de kleinste lijst genomen."
   ]
  },
  {
   "cell_type": "code",
   "execution_count": 6,
   "metadata": {},
   "outputs": [
    {
     "name": "stdout",
     "output_type": "stream",
     "text": [
      "Tom A\n",
      "Jos B\n",
      "Koen A\n",
      "Gert D\n"
     ]
    }
   ],
   "source": [
    "students=[\"Tom\",\"Jos\",\"Koen\",\"Gert\"]\n",
    "grades=[\"A\",\"B\",\"A\",\"D\"]\n",
    "\n",
    "#Traditionele manier om twee lists samen te overlopen\n",
    "for i in range(len(students)):\n",
    "    print(students[i],grades[i])"
   ]
  },
  {
   "cell_type": "code",
   "execution_count": 7,
   "metadata": {},
   "outputs": [
    {
     "name": "stdout",
     "output_type": "stream",
     "text": [
      "Tom A\n",
      "Jos B\n",
      "Koen A\n",
      "Gert D\n"
     ]
    }
   ],
   "source": [
    "#Gebruik van zip\n",
    "for student,grade in zip(students,grades):\n",
    "    print(student,grade)"
   ]
  },
  {
   "cell_type": "code",
   "execution_count": 8,
   "metadata": {},
   "outputs": [
    {
     "name": "stdout",
     "output_type": "stream",
     "text": [
      "Tom A\n",
      "Jos B\n",
      "Koen A\n"
     ]
    }
   ],
   "source": [
    "#Gebruik van zip met lists met verschillende lengte\n",
    "students=[\"Tom\",\"Jos\",\"Koen\",\"Gert\"]\n",
    "grades=[\"A\",\"B\",\"A\"]\n",
    "\n",
    "for student,grade in zip(students,grades):\n",
    "    print(student,grade)"
   ]
  },
  {
   "cell_type": "markdown",
   "metadata": {},
   "source": [
    "### Zip & Enumerate\n",
    "Je kunt `zip()` en `enumerate()` samenvoegen door nested argument unpacking te gebruiken, waarbij je `zip()` binnen `enumerate()` plaatst. Dit betekent dat je `zip()` gebruikt om elementen van twee of meer iterables samen te voegen in een tuple met twee variabelen. Tegelijkertijd gebruik je `enumerate()` om een teller mee te geven voor de index."
   ]
  },
  {
   "cell_type": "code",
   "execution_count": 9,
   "metadata": {},
   "outputs": [
    {
     "name": "stdout",
     "output_type": "stream",
     "text": [
      "0 Tom A\n",
      "1 Jos B\n",
      "2 Koen A\n",
      "3 Gert D\n",
      "[('Tom', 'A'), ('Jos', 'B'), ('Koen', 'A'), ('Gert', 'D')]\n"
     ]
    }
   ],
   "source": [
    "students=[\"Tom\",\"Jos\",\"Koen\",\"Gert\"]\n",
    "grades=[\"A\",\"B\",\"A\",\"D\"]\n",
    "\n",
    "for i,(student,grade) in enumerate(zip(students,grades)):\n",
    "    print(i,student,grade)\n",
    "\n",
    "#lijst maken om te zien wat zip() doet\n",
    "print(list(zip(students,grades)))"
   ]
  },
  {
   "cell_type": "markdown",
   "metadata": {},
   "source": [
    "## Map\n",
    " Met `map()` kun je een functie toepassen op elk element van een iterable, zoals een lijst, en het resultaat terugkrijgen als een iterator. \n",
    "<br><br>\n",
    "Ook mogelijk met built-in python functions (bv. `pow()` functie: eerste lijst tot de macht van tweede variable)\n",
    "\n"
   ]
  },
  {
   "cell_type": "code",
   "execution_count": 10,
   "metadata": {},
   "outputs": [],
   "source": [
    "#Functie\n",
    "def transform(grade):\n",
    "    lookup_dict={\"A\":8,\"B\":6,\"C\":4,\"D\":2}    \n",
    "    return lookup_dict[grade]"
   ]
  },
  {
   "cell_type": "code",
   "execution_count": 11,
   "metadata": {},
   "outputs": [
    {
     "name": "stdout",
     "output_type": "stream",
     "text": [
      "[8, 6, 8, 2]\n"
     ]
    }
   ],
   "source": [
    "#Traditionele manier om een list te transformeren\n",
    "marks=[]\n",
    "for grade in grades:\n",
    "    marks.append(transform(grade))\n",
    "print(marks)"
   ]
  },
  {
   "cell_type": "code",
   "execution_count": 12,
   "metadata": {},
   "outputs": [
    {
     "name": "stdout",
     "output_type": "stream",
     "text": [
      "[8, 6, 8, 2]\n"
     ]
    }
   ],
   "source": [
    "#Gebruik van map\n",
    "marks=list(map(transform,grades))\n",
    "print(marks)"
   ]
  },
  {
   "cell_type": "code",
   "execution_count": 13,
   "metadata": {},
   "outputs": [
    {
     "name": "stdout",
     "output_type": "stream",
     "text": [
      "[1, 8, 9, 4]\n"
     ]
    }
   ],
   "source": [
    "#Gebruik van python built-in functie\n",
    "results=list(map(pow,[1,2,3,4,5],[4,3,2,1]))\n",
    "print(results)"
   ]
  },
  {
   "cell_type": "markdown",
   "metadata": {},
   "source": [
    "## Filter\n",
    "\n",
    "Voor de `True` of `False` functie kun je de ingebouwde `filter()`-functie gebruiken, die een iterator teruggeeft met alleen de items waarvoor de functie `True` retourneert."
   ]
  },
  {
   "cell_type": "code",
   "execution_count": 14,
   "metadata": {},
   "outputs": [],
   "source": [
    "grades=[\"A\",\"B\",\"A\",\"C\"]\n",
    "def passed(grade):\n",
    "    return grade in [\"A\",\"B\"]"
   ]
  },
  {
   "cell_type": "code",
   "execution_count": 15,
   "metadata": {},
   "outputs": [
    {
     "name": "stdout",
     "output_type": "stream",
     "text": [
      "[True, True, True, False]\n"
     ]
    }
   ],
   "source": [
    "results=list(map(passed,grades))\n",
    "print(results)"
   ]
  },
  {
   "cell_type": "code",
   "execution_count": 16,
   "metadata": {},
   "outputs": [
    {
     "name": "stdout",
     "output_type": "stream",
     "text": [
      "['A', 'B', 'A']\n"
     ]
    }
   ],
   "source": [
    "passed_grades=list(filter(passed,grades))\n",
    "print(passed_grades)"
   ]
  },
  {
   "cell_type": "markdown",
   "metadata": {},
   "source": [
    "## Lambda functies\n",
    "\n",
    "Een functie zonder naam, ook wel een anonieme functie genoemd, kan worden gemaakt met behulp van het `lambda`-keyword in Python. De syntax voor een lambda-functie is:\n",
    "\n",
    "```\n",
    "lambda parameters: expression\n",
    "```\n",
    "\n",
    "Je kunt `*args` gebruiken als je niet van tevoren weet hoeveel variabelen er zullen zijn; het staat voor \"variabele argumenten\" en kan een willekeurig aantal argumenten aannemen. De syntax voor het gebruik van `*args` in een lambda-functie zou er zo uitzien:\n",
    "\n",
    "```\n",
    "lambda *args: expression\n",
    "```\n"
   ]
  },
  {
   "cell_type": "code",
   "execution_count": 17,
   "metadata": {},
   "outputs": [
    {
     "name": "stdout",
     "output_type": "stream",
     "text": [
      "5\n",
      "8\n"
     ]
    }
   ],
   "source": [
    "print((lambda x,y:x+y)(2,3))\n",
    "print((lambda x,y,z=3: x+y+z)(2,3))"
   ]
  },
  {
   "cell_type": "code",
   "execution_count": 18,
   "metadata": {},
   "outputs": [
    {
     "name": "stdout",
     "output_type": "stream",
     "text": [
      "15\n"
     ]
    }
   ],
   "source": [
    "#gebruik van *args \n",
    "print((lambda *args:sum(args))(1,2,3,4,5))"
   ]
  },
  {
   "cell_type": "code",
   "execution_count": 19,
   "metadata": {},
   "outputs": [
    {
     "name": "stdout",
     "output_type": "stream",
     "text": [
      "['A', 'B', 'A']\n"
     ]
    }
   ],
   "source": [
    "#gebruik van map() & filter() met lambda\n",
    "grades=[\"A\",\"B\",\"A\",\"C\"]\n",
    "passed_grades=list(filter(lambda grade:grade in [\"A\",\"B\"],grades))\n",
    "print(passed_grades)"
   ]
  },
  {
   "cell_type": "code",
   "execution_count": 20,
   "metadata": {},
   "outputs": [
    {
     "name": "stdout",
     "output_type": "stream",
     "text": [
      "[8, 6, 8, 4]\n"
     ]
    }
   ],
   "source": [
    "marks=list(map(lambda grade:{'A':8,'B':6,'C':4,'D':2}.get(grade),grades))\n",
    "print(marks)"
   ]
  },
  {
   "cell_type": "markdown",
   "metadata": {},
   "source": [
    "## List comprehensions\n",
    "## Makkelijke & compacte manier voor list aanmaken\n",
    "\n",
    "Een makkelijke en compacte manier om een lijst aan te maken is door gebruik te maken van list comprehension. Dit wordt vaak gebruikt in combinatie met een andere lijst, maar kan ook gebruikt worden met andere iterables, zoals `range()`, die in feite ook een lijst oplevert.\n",
    "\n",
    "List comprehension is doorgaans sneller dan een standaard for-loop en kan dienen als een alternatief voor `map()` en `filter()`.\n",
    "\n",
    "De syntax voor list comprehension is:\n",
    "```[output expression for element in iterable if condition]```\n",
    "\n",
    "Hierbij wordt de `output expression` toegepast op elk `element` in de `iterable`, maar alleen als de `condition` waar is.\n",
    "\n",
    "\n"
   ]
  },
  {
   "cell_type": "code",
   "execution_count": 21,
   "metadata": {},
   "outputs": [
    {
     "name": "stdout",
     "output_type": "stream",
     "text": [
      "[1, 4, 9, 16, 25]\n"
     ]
    }
   ],
   "source": [
    "#Zonder list comprehension\n",
    "lst=[]\n",
    "for x in range(1,6):\n",
    "    lst.append(x*x)\n",
    "print(lst)"
   ]
  },
  {
   "cell_type": "code",
   "execution_count": 22,
   "metadata": {},
   "outputs": [
    {
     "name": "stdout",
     "output_type": "stream",
     "text": [
      "[1, 4, 9, 16, 25]\n"
     ]
    }
   ],
   "source": [
    "#Met list comprehension\n",
    "lst=[x*x for x in range(1,6)]\n",
    "print(lst)"
   ]
  }
 ],
 "metadata": {
  "kernelspec": {
   "display_name": "Python 3",
   "language": "python",
   "name": "python3"
  },
  "language_info": {
   "codemirror_mode": {
    "name": "ipython",
    "version": 3
   },
   "file_extension": ".py",
   "mimetype": "text/x-python",
   "name": "python",
   "nbconvert_exporter": "python",
   "pygments_lexer": "ipython3",
   "version": "3.12.3"
  }
 },
 "nbformat": 4,
 "nbformat_minor": 2
}
