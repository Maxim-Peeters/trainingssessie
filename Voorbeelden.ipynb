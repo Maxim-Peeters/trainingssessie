{
 "cells": [
  {
   "cell_type": "markdown",
   "metadata": {},
   "source": [
    "# Voorbeelden"
   ]
  },
  {
   "cell_type": "markdown",
   "metadata": {},
   "source": [
    "## Enumerate\n",
    "\n",
    "Schrijf een Python-programma dat een lijst met getallen ontvangt en het indexnummer en het bijbehorende getal afdrukt met behulp van `enumerate()`. <br>\n",
    "Vervolgens moet het programma de som berekenen van alle getallen in de lijst die op een even indexnummer staan."
   ]
  },
  {
   "cell_type": "markdown",
   "metadata": {},
   "source": [
    "Als de ingevoerde lijst [3, 6, 9, 12, 15] is, zou het programma de volgende uitvoer moeten genereren:<br>\n",
    "\n",
    "```\n",
    "Index 0: 3\n",
    "Index 1: 6\n",
    "Index 2: 9\n",
    "Index 3: 12\n",
    "Index 4: 15\n",
    "De som van de getallen op even indexnummers is: 27\n",
    "```"
   ]
  },
  {
   "cell_type": "code",
   "execution_count": 1,
   "metadata": {},
   "outputs": [
    {
     "name": "stdout",
     "output_type": "stream",
     "text": [
      "Index 0: 3\n",
      "Index 1: 6\n",
      "Index 2: 9\n",
      "Index 3: 12\n",
      "Index 4: 15\n",
      "De som van de getallen op even indexnummers is: 27\n"
     ]
    }
   ],
   "source": [
    "getallen = [3, 6, 9, 12, 15]\n",
    "\n",
    "som = 0\n",
    "\n",
    "for index, getal in enumerate(getallen):\n",
    "\tprint(f\"Index {index}: {getal}\")\n",
    "\tif index % 2 == 0:\n",
    "\t\tsom += getal\n",
    "\n",
    "print(f\"De som van de getallen op even indexnummers is: {som}\")"
   ]
  },
  {
   "cell_type": "markdown",
   "metadata": {},
   "source": [
    "Je hebt een lijst met taken en bijhorende prioriteit in tuples. Om een ToDo lijst te maken met een volgorde wil ik die lijst graag afdrukken met een opsomming. "
   ]
  },
  {
   "cell_type": "code",
   "execution_count": 2,
   "metadata": {},
   "outputs": [
    {
     "name": "stdout",
     "output_type": "stream",
     "text": [
      "1. Taak 1 - Prioriteit: Hoog\n",
      "2. Taak 2 - Prioriteit: Laag\n",
      "3. Taak 3 - Prioriteit: Gemiddeld\n",
      "4. Taak 4 - Prioriteit: Hoog\n",
      "5. Taak 5 - Prioriteit: Laag\n"
     ]
    }
   ],
   "source": [
    "# ToDo-lijst met prioriteit\n",
    "todo_list = [\n",
    "    (\"Taak 1\", \"Hoog\"),\n",
    "    (\"Taak 2\", \"Laag\"),\n",
    "    (\"Taak 3\", \"Gemiddeld\"),\n",
    "    (\"Taak 4\", \"Hoog\"),\n",
    "    (\"Taak 5\", \"Laag\")\n",
    "]\n",
    "\n",
    "# Itereer over de ToDo-lijst met behulp van enumerate\n",
    "for i, (taak, prioriteit) in enumerate(todo_list, start=1):\n",
    "    print(f\"{i}. {taak} - Prioriteit: {prioriteit}\")"
   ]
  },
  {
   "cell_type": "markdown",
   "metadata": {},
   "source": [
    "## Zip\n",
    "\n",
    "Je hebt drie lijsten met informatie over studenten: namen, leeftijden en studierichtingen. Je wilt deze informatie combineren en een dictionary maken waarbij de namen als sleutels worden gebruikt, en als waarden een lijst hebben met bijbehorende leeftijd en studierichting. Gebruik `zip()` en een for-loop om dit te doen.\n",
    "<br>\n",
    "<br>\n",
    "Verwachte output: {'Hans': [22, 'Informatica'], 'Bart': [20, 'Geschiedenis'], 'Gert': [23, 'Biologie']}"
   ]
  },
  {
   "cell_type": "code",
   "execution_count": 3,
   "metadata": {},
   "outputs": [
    {
     "name": "stdout",
     "output_type": "stream",
     "text": [
      "{'Hans': [22, 'Informatica'], 'Bart': [20, 'Geschiedenis'], 'Gert': [23, 'Biologie']}\n"
     ]
    }
   ],
   "source": [
    "namen = [\"Hans\", \"Bart\", \"Gert\"]\n",
    "leeftijden = [22, 20, 23]\n",
    "studierichtingen = [\"Informatica\", \"Geschiedenis\", \"Biologie\"]\n",
    "\n",
    "student_info = {}\n",
    "\n",
    "for naam, leeftijd, studierichting in zip(namen, leeftijden, studierichtingen):\n",
    "\tstudent_info[naam] = [leeftijd, studierichting]\n",
    "\n",
    "print(student_info)"
   ]
  },
  {
   "cell_type": "markdown",
   "metadata": {},
   "source": [
    "Stel je hebt een lijst met namen van studenten en een lijst met hun corresponderende scores op drie verschillende examens (examen 1, examen 2 en examen 3). Je wilt een programma schrijven dat de namen van de studenten die op alle drie de examens een score van 70 of hoger hebben behaald, afdrukt, samen met hun scores per examen. Gebruik hiervoor de ``zip()``.\n",
    "<br>\n",
    "<br>\n",
    "Resultaat:\n",
    "<br>\n",
    "Bram: Examen 1: 75, Examen 2: 85, Examen 3: 80\n",
    "<br>\n",
    "Carla: Examen 1: 85, Examen 2: 70, Examen 3: 90"
   ]
  },
  {
   "cell_type": "code",
   "execution_count": 4,
   "metadata": {},
   "outputs": [
    {
     "name": "stdout",
     "output_type": "stream",
     "text": [
      "Bram: Examen 1: 75, Examen 2: 85, Examen 3: 80\n",
      "Carla: Examen 1: 85, Examen 2: 70, Examen 3: 90\n"
     ]
    }
   ],
   "source": [
    "# Lijst met namen van studenten\n",
    "studenten = [\"Anna\", \"Bram\", \"Carla\", \"David\"]\n",
    "\n",
    "# Lijsten met corresponderende scores op de drie examens\n",
    "examenscores = [\n",
    "\t[80, 75, 85],  # Examen 1 scores\n",
    "\t[65, 85, 70],  # Examen 2 scores\n",
    "\t[75, 80, 90]   # Examen 3 scores\n",
    "]\n",
    "\n",
    "# Filter studenten met scores van 70 of hoger op alle examens\n",
    "gefilterde_studenten = []\n",
    "\n",
    "for naam, *scores in zip(studenten, *examenscores):\n",
    "\tif all(score >= 70 for score in scores):\n",
    "\t\tgefilterde_studenten.append((naam, scores))\n",
    "\n",
    "# Print de namen en scores van studenten met scores van 70 of hoger op alle examens\n",
    "for naam, scores in gefilterde_studenten:\n",
    "\tprint(f\"{naam}: Examen 1: {scores[0]}, Examen 2: {scores[1]}, Examen 3: {scores[2]}\")\n"
   ]
  },
  {
   "cell_type": "markdown",
   "metadata": {},
   "source": [
    "## Map\n",
    "\n",
    "Schrijf een programma dat een lijst met namen bevat en deze namen naar hoofdletters vertaalt met behulp van `map()`.\n",
    "<br>\n",
    "<br>\n",
    "Resultaat\n",
    "<br>\n",
    "['JAN', 'PIET', 'KEES', 'MARIE']"
   ]
  },
  {
   "cell_type": "code",
   "execution_count": 5,
   "metadata": {},
   "outputs": [
    {
     "name": "stdout",
     "output_type": "stream",
     "text": [
      "['JAN', 'PIET', 'KEES', 'MARIE']\n"
     ]
    }
   ],
   "source": [
    "def to_upper(name):\n",
    "    return name.upper()\n",
    "\n",
    "namen = ['jan', 'piet', 'kees', 'marie']\n",
    "resultaat = list(map(to_upper, namen))\n",
    "print(resultaat)"
   ]
  },
  {
   "cell_type": "markdown",
   "metadata": {},
   "source": [
    "Schrijf een programma dat een lijst met getallen bevat en elk getal in de lijst kwadrateert met behulp van `map()`.\n",
    "<br>\n",
    "<br>\n",
    "Resultaat\n",
    "<br>\n",
    "[1, 4, 9, 16, 25]"
   ]
  },
  {
   "cell_type": "code",
   "execution_count": 6,
   "metadata": {},
   "outputs": [
    {
     "name": "stdout",
     "output_type": "stream",
     "text": [
      "[1, 4, 9, 16, 25]\n"
     ]
    }
   ],
   "source": [
    "def square(number):\n",
    "    return number ** 2\n",
    "\n",
    "getallen = [1, 2, 3, 4, 5]\n",
    "resultaat = list(map(square, getallen))\n",
    "print(resultaat)"
   ]
  },
  {
   "cell_type": "markdown",
   "metadata": {},
   "source": [
    "## Filter\n",
    "\n",
    "Schrijf een functie positieve_getallen die een lijst van getallen als invoer neemt en alleen de positieve getallen filtert met behulp van `filter()`. <br> Geef vervolgens de gefilterde getallen terug als een lijst."
   ]
  },
  {
   "cell_type": "code",
   "execution_count": 7,
   "metadata": {},
   "outputs": [
    {
     "name": "stdout",
     "output_type": "stream",
     "text": [
      "Positieve getallen: [5, 10, 7]\n"
     ]
    }
   ],
   "source": [
    "def is_positief(num):\n",
    "    return num > 0\n",
    "\n",
    "def positieve_getallen(getallen):\n",
    "    return list(filter(is_positief, getallen))\n",
    "\n",
    "# Voorbeeldgebruik:\n",
    "getallen = [-2, 5, -8, 10, -3, 0, 7]\n",
    "positieve = positieve_getallen(getallen)\n",
    "print(\"Positieve getallen:\", positieve)"
   ]
  },
  {
   "cell_type": "markdown",
   "metadata": {},
   "source": [
    "Schrijf een functie even_lengte_strings die een lijst van strings als invoer neemt en alleen de strings filtert met een even lengte met behulp van `filter()`. \n",
    "<br>Geef vervolgens de gefilterde strings terug als een lijst."
   ]
  },
  {
   "cell_type": "code",
   "execution_count": 8,
   "metadata": {},
   "outputs": [
    {
     "name": "stdout",
     "output_type": "stream",
     "text": [
      "Strings met even lengte: ['peer', 'banaan', 'kiwi']\n"
     ]
    }
   ],
   "source": [
    "def heeft_even_lengte(string):\n",
    "    return len(string) % 2 == 0\n",
    "\n",
    "def even_lengte_strings(strings):\n",
    "    return list(filter(heeft_even_lengte, strings))\n",
    "\n",
    "# Voorbeeldgebruik:\n",
    "strings = [\"appel\", \"peer\", \"banaan\", \"kiwi\", \"sinaasappel\"]\n",
    "even_lengte = even_lengte_strings(strings)\n",
    "print(\"Strings met even lengte:\", even_lengte)"
   ]
  },
  {
   "cell_type": "markdown",
   "metadata": {},
   "source": [
    "## Lambda\n",
    "Schrijf een lambda functie genaamd kwadraat, zorg dat elk getal dat je geeft gekwadrateerd word.  "
   ]
  },
  {
   "cell_type": "code",
   "execution_count": 9,
   "metadata": {},
   "outputs": [
    {
     "name": "stdout",
     "output_type": "stream",
     "text": [
      "25\n"
     ]
    }
   ],
   "source": [
    "#kwadraat functie\n",
    "kwadraat = lambda x: x * x\n",
    "print(kwadraat(5))  \n"
   ]
  },
  {
   "cell_type": "markdown",
   "metadata": {},
   "source": [
    "Gegeven is een lijst met verschillende (random) getallen, Filter uit deze lijst alle oneven getallen en zet de even getallen in een andere lijst."
   ]
  },
  {
   "cell_type": "code",
   "execution_count": 10,
   "metadata": {},
   "outputs": [
    {
     "name": "stdout",
     "output_type": "stream",
     "text": [
      "[2, 4, 6, 8, 10]\n"
     ]
    }
   ],
   "source": [
    "#filter alle even getallen\n",
    "getallen = [1, 2, 3, 4, 5, 6, 7, 8, 9, 10]\n",
    "even_getallen = list(filter(lambda x: x % 2 == 0, getallen))\n",
    "print(even_getallen)"
   ]
  },
  {
   "cell_type": "markdown",
   "metadata": {},
   "source": [
    "Gegeven is een lijst met verschillende (random) getallen, maak een nieuwe lijst met de kwadraten van deze getallen."
   ]
  },
  {
   "cell_type": "code",
   "execution_count": 11,
   "metadata": {},
   "outputs": [
    {
     "name": "stdout",
     "output_type": "stream",
     "text": [
      "[1, 100, 25, 36, 64, 49, 81, 9, 4, 16]\n"
     ]
    }
   ],
   "source": [
    "#map alle getallen naar hun kwadraat\n",
    "getallen = [1,10,5,6,8,7,9,3,2,4]\n",
    "kwadraten = list(map(lambda x: x * x, getallen))\n",
    "print(kwadraten)"
   ]
  },
  {
   "cell_type": "markdown",
   "metadata": {},
   "source": [
    "Gegeven is een lijst met namen en bijhoordende leeftijd in tuples, sorteer deze lijst op leeftijd"
   ]
  },
  {
   "cell_type": "code",
   "execution_count": 12,
   "metadata": {},
   "outputs": [
    {
     "name": "stdout",
     "output_type": "stream",
     "text": [
      "[('Frank', 20), ('Jos', 25), ('Dirk', 30)]\n"
     ]
    }
   ],
   "source": [
    "#sorteer op leeftijd\n",
    "studenten = [('Jos', 25), ('Frank', 20), ('Dirk', 30)]\n",
    "studenten_op_leeftijd = sorted(studenten, key=lambda student: student[1])\n",
    "print(studenten_op_leeftijd)\n"
   ]
  },
  {
   "cell_type": "markdown",
   "metadata": {},
   "source": [
    "## List Comprehensions\n",
    "\n",
    "Schrijf een Python-programma dat een lijst van getallen ontvangt en alle even getallen filtert met behulp van een `list comprehension`."
   ]
  },
  {
   "cell_type": "code",
   "execution_count": 13,
   "metadata": {},
   "outputs": [
    {
     "name": "stdout",
     "output_type": "stream",
     "text": [
      "De even getallen zijn: [2, 4, 6, 8, 10]\n"
     ]
    }
   ],
   "source": [
    "getallen = [1, 2, 3, 4, 5, 6, 7, 8, 9, 10]\n",
    "\n",
    "# List comprehension om even getallen te filteren\n",
    "even_getallen = [getal for getal in getallen if getal % 2 == 0]\n",
    "\n",
    "# Output\n",
    "print(\"De even getallen zijn:\", even_getallen)"
   ]
  },
  {
   "cell_type": "markdown",
   "metadata": {},
   "source": [
    "Schrijf een Python-programma dat een lijst van getallen ontvangt en de kwadraten berekent van alle positieve getallen met behulp van een `list comprehension`."
   ]
  },
  {
   "cell_type": "code",
   "execution_count": 14,
   "metadata": {},
   "outputs": [
    {
     "name": "stdout",
     "output_type": "stream",
     "text": [
      "De kwadraten van de positieve getallen zijn: [1, 9, 25, 49, 81]\n"
     ]
    }
   ],
   "source": [
    "getallen = [1, -2, 3, -4, 5, -6, 7, -8, 9, -10]\n",
    "\n",
    "# List comprehension om kwadraten van positieve getallen te berekenen\n",
    "kwadraten = [getal**2 for getal in getallen if getal > 0]\n",
    "\n",
    "# Output\n",
    "print(\"De kwadraten van de positieve getallen zijn:\", kwadraten)"
   ]
  },
  {
   "cell_type": "markdown",
   "metadata": {},
   "source": [
    "Schrijf een Python-programma dat twee lijsten ontvangt: een lijst van namen en een lijst van leeftijden, en deze combineert tot een lijst van tuples met behulp van een `list comprehension` en `zip`."
   ]
  },
  {
   "cell_type": "code",
   "execution_count": 15,
   "metadata": {},
   "outputs": [
    {
     "name": "stdout",
     "output_type": "stream",
     "text": [
      "Gecombineerde lijst: [('Gert', 25), ('Bob', 30), ('Jos', 35), ('Jef', 40)]\n"
     ]
    }
   ],
   "source": [
    "namen = ['Gert', 'Bob', 'Jos', 'Jef']\n",
    "leeftijden = [25, 30, 35, 40]\n",
    "\n",
    "# List comprehension met zip om namen en leeftijden te combineren tot tuples\n",
    "gecombineerd = [(naam, leeftijd) for naam, leeftijd in zip(namen, leeftijden)]\n",
    "\n",
    "# Output\n",
    "print(\"Gecombineerde lijst:\", gecombineerd)"
   ]
  }
 ],
 "metadata": {
  "kernelspec": {
   "display_name": "Python 3",
   "language": "python",
   "name": "python3"
  },
  "language_info": {
   "codemirror_mode": {
    "name": "ipython",
    "version": 3
   },
   "file_extension": ".py",
   "mimetype": "text/x-python",
   "name": "python",
   "nbconvert_exporter": "python",
   "pygments_lexer": "ipython3",
   "version": "3.12.3"
  },
  "orig_nbformat": 4
 },
 "nbformat": 4,
 "nbformat_minor": 2
}
