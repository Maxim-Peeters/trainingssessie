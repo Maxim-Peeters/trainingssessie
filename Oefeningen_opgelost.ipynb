{
 "cells": [
  {
   "cell_type": "markdown",
   "metadata": {},
   "source": [
    "## Oefening 1"
   ]
  },
  {
   "cell_type": "code",
   "execution_count": 28,
   "metadata": {},
   "outputs": [
    {
     "name": "stdout",
     "output_type": "stream",
     "text": [
      "0\n"
     ]
    }
   ],
   "source": [
    "my_list = [\"Appel\", \"Banaan\", \"Kers\", \"Appel\", \"Peer\"]\n",
    "\n",
    "def find_first_occurrence(list, element):\n",
    "    for index, value in enumerate(my_list):\n",
    "        if value == element:\n",
    "            return index\n",
    "    return -1\n",
    "\n",
    "print(find_first_occurrence(my_list, \"Appel\"))"
   ]
  },
  {
   "cell_type": "markdown",
   "metadata": {},
   "source": [
    "## Oefening 2"
   ]
  },
  {
   "cell_type": "code",
   "execution_count": 29,
   "metadata": {},
   "outputs": [
    {
     "name": "stdout",
     "output_type": "stream",
     "text": [
      "[7.5, 17.5, 27.5, 37.5]\n"
     ]
    }
   ],
   "source": [
    "list1 = [10, 20, 30, 40]\n",
    "list2 = [5, 15, 25, 35]\n",
    "\n",
    "merged = []\n",
    "for item1, item2 in zip(list1, list2):\n",
    "    average = (item1 + item2) / 2\n",
    "    merged.append(average)\n",
    "print(merged)  # [7.5, 17.5, 27.5, 37.5]"
   ]
  },
  {
   "cell_type": "markdown",
   "metadata": {},
   "source": [
    "## Oefening 3"
   ]
  },
  {
   "cell_type": "code",
   "execution_count": 30,
   "metadata": {},
   "outputs": [
    {
     "name": "stdout",
     "output_type": "stream",
     "text": [
      "('Sun', 'zon')\n",
      "('Mon', 'ma')\n",
      "('Tue', 'di')\n",
      "('Wed', 'woe')\n",
      "('Thu', 'don')\n",
      "('Fri', 'vrij')\n",
      "('Sat', 'zat')\n",
      "\n",
      "In english Sun = zon in dutch\n",
      "In english Mon = ma in dutch\n",
      "In english Tue = di in dutch\n",
      "In english Wed = woe in dutch\n",
      "In english Thu = don in dutch\n",
      "In english Fri = vrij in dutch\n",
      "In english Sat = zat in dutch\n",
      "\n",
      "1 Sun = zon in dutch\n",
      "2 Mon = ma in dutch\n",
      "3 Tue = di in dutch\n",
      "4 Wed = woe in dutch\n",
      "5 Thu = don in dutch\n",
      "6 Fri = vrij in dutch\n",
      "7 Sat = zat in dutch\n",
      "\n"
     ]
    }
   ],
   "source": [
    "weekdays_english = [\"Sun\", \"Mon\", \"Tue\", \"Wed\", \"Thu\",\"Fri\", \"Sat\"]\n",
    "\n",
    "weekdays_dutch = [\"zon\", \"ma\", \"di\", \"woe\", \"don\", \"vrij\",\"zat\"]\n",
    "\n",
    "for eng, dutch in zip(weekdays_english, weekdays_dutch):\n",
    "    print(f\"('{eng}', '{dutch}')\")\n",
    "print()\n",
    "for eng, dutch in zip(weekdays_english, weekdays_dutch):\n",
    "    print(f\"In english {eng} = {dutch} in dutch\")\n",
    "print()\n",
    "for i,(eng, dutch) in enumerate(zip(weekdays_english, weekdays_dutch),start=1):\n",
    "    print(f\"{i} {eng} = {dutch} in dutch\")\n",
    "print()"
   ]
  },
  {
   "cell_type": "markdown",
   "metadata": {},
   "source": [
    "## Oefening 4"
   ]
  },
  {
   "cell_type": "code",
   "execution_count": 31,
   "metadata": {},
   "outputs": [
    {
     "name": "stdout",
     "output_type": "stream",
     "text": [
      "Celcius: [0, 18, 37, 100]\tFahrenheit:[32, 53, 93, 212]\n"
     ]
    }
   ],
   "source": [
    "def convert_fahrenheit_to_celsius(fahrenheit):\n",
    "    celsius = (fahrenheit - 32) * 5 // 9\n",
    "    return celsius\n",
    "def convert_celsius_to_fahrenheit(celsius):\n",
    "    fahrenheit = celsius * 9 // 5 + 32\n",
    "    return fahrenheit\n",
    "    \n",
    "ctemps = [0, 12, 34, 100]\n",
    "\n",
    "ftemps = [32, 65, 100, 212]\n",
    "celsius=list(map(convert_fahrenheit_to_celsius,ftemps))\n",
    "fahrenheit=list(map(convert_celsius_to_fahrenheit,ctemps))\n",
    "print(f'Celcius: {celsius}\\tFahrenheit:{fahrenheit}')"
   ]
  },
  {
   "cell_type": "markdown",
   "metadata": {},
   "source": [
    "## Oefening 5"
   ]
  },
  {
   "cell_type": "code",
   "execution_count": 32,
   "metadata": {},
   "outputs": [
    {
     "name": "stdout",
     "output_type": "stream",
     "text": [
      "Getal\tMacht\tResultaat\n",
      "-------------------------\n",
      "2\t2\t4\n",
      "3\t3\t27\n",
      "4\t4\t256\n",
      "5\t5\t3125\n"
     ]
    }
   ],
   "source": [
    "numbers = [2, 3, 4, 5]\n",
    "powers = [2, 3, 4, 5]\n",
    "\n",
    "def calculate_powers(numbers, powers):\n",
    "\treturn list(map(pow, numbers, powers))\n",
    "\n",
    "powered_numbers = calculate_powers(numbers, powers)\n",
    "\n",
    "print(\"Getal\\tMacht\\tResultaat\")\n",
    "print(\"-------------------------\")\n",
    "for number, power, result in zip(numbers, powers, powered_numbers):\n",
    "\tprint(f\"{number}\\t{power}\\t{result}\")"
   ]
  },
  {
   "cell_type": "markdown",
   "metadata": {},
   "source": [
    "## Oefening 6\n"
   ]
  },
  {
   "cell_type": "code",
   "execution_count": 33,
   "metadata": {},
   "outputs": [
    {
     "name": "stdout",
     "output_type": "stream",
     "text": [
      "Strings met een lengte deelbaar door 3 zijn: ['banana', 'orange']\n"
     ]
    }
   ],
   "source": [
    "def is_divisible_by_three(string):\n",
    "    return len(string) % 3 == 0\n",
    "\n",
    "strings = [\"apple\", \"banana\", \"orange\", \"pear\", \"kiwi\", \"strawberry\"]\n",
    "filtered_strings = list(filter(is_divisible_by_three, strings))\n",
    "\n",
    "print(\"Strings met een lengte deelbaar door 3 zijn:\", filtered_strings)"
   ]
  },
  {
   "cell_type": "markdown",
   "metadata": {},
   "source": [
    "## Oefening 7"
   ]
  },
  {
   "cell_type": "code",
   "execution_count": 34,
   "metadata": {},
   "outputs": [
    {
     "name": "stdout",
     "output_type": "stream",
     "text": [
      "[24, 12, 8, 6]\n"
     ]
    }
   ],
   "source": [
    "input_list = [1, 2, 3, 4]\n",
    "\n",
    "def product_except_self(input_list):\n",
    "\tproduct = 1\n",
    "\tfor num in input_list:\n",
    "\t\tproduct *= num\n",
    "\t\t\n",
    "\treturn [product // num for num in input_list]\n",
    "\n",
    "print(product_except_self(input_list))\n"
   ]
  },
  {
   "cell_type": "markdown",
   "metadata": {},
   "source": [
    "## Oefening 8"
   ]
  },
  {
   "cell_type": "code",
   "execution_count": 35,
   "metadata": {},
   "outputs": [
    {
     "name": "stdout",
     "output_type": "stream",
     "text": [
      "Vakken met scores allemaal boven de 60:\n",
      "Geschiedenis: (80, 90, 70)\n"
     ]
    }
   ],
   "source": [
    "vakken = [\"Wiskunde\", \"Natuurkunde\", \"Geschiedenis\"]\n",
    "scores_student1 = [75, 55, 80]\n",
    "scores_student2 = [60, 70, 90]\n",
    "scores_student3 = [45, 65, 70]\n",
    "\n",
    "# Gebruik list comprehensions en zip om het overzicht te genereren\n",
    "overzicht = [(vak, scores) for vak, scores in zip(vakken, zip(scores_student1, scores_student2, scores_student3)) if all(score >= 60 for score in scores)]\n",
    "\n",
    "# Print het overzicht\n",
    "print(\"Vakken met scores allemaal boven de 60:\")\n",
    "for vak, scores in overzicht:\n",
    "    print(f\"{vak}: {scores}\")"
   ]
  },
  {
   "cell_type": "markdown",
   "metadata": {},
   "source": [
    "## Oefening 9"
   ]
  },
  {
   "cell_type": "code",
   "execution_count": 36,
   "metadata": {},
   "outputs": [
    {
     "name": "stdout",
     "output_type": "stream",
     "text": [
      "Oplopend gesorteerd: [1, 2, 3, 5, 8]\n",
      "Aflopend gesorteerd: [8, 5, 3, 2, 1]\n"
     ]
    }
   ],
   "source": [
    "# Definieer een lijst van getallen\n",
    "getallen = [5, 2, 8, 1, 3]\n",
    "\n",
    "# Sorteer de lijst in oplopende volgorde met behulp van een lambda-functie\n",
    "oplopend_gesorteerd = sorted(getallen, key=lambda x: x)\n",
    "\n",
    "# Sorteer de lijst in aflopende volgorde met behulp van een lambda-functie\n",
    "aflopend_gesorteerd = sorted(getallen, key=lambda x: -x)\n",
    "\n",
    "# Print de gesorteerde lijsten\n",
    "print(\"Oplopend gesorteerd:\", oplopend_gesorteerd)\n",
    "print(\"Aflopend gesorteerd:\", aflopend_gesorteerd)"
   ]
  },
  {
   "cell_type": "markdown",
   "metadata": {},
   "source": [
    "## Oefening 10"
   ]
  },
  {
   "cell_type": "code",
   "execution_count": 37,
   "metadata": {},
   "outputs": [
    {
     "name": "stdout",
     "output_type": "stream",
     "text": [
      "Woorden met het teken 'a': ['appel', 'banaan']\n"
     ]
    }
   ],
   "source": [
    "words = [\"appel\", \"banaan\", \"kiwi\", \"peer\", \"perzik\"]\n",
    "\n",
    "character = \"a\"\n",
    "words_with_character = list(filter(lambda x: character in x, words))\n",
    "print(f\"Woorden met het teken '{character}': {words_with_character}\")"
   ]
  },
  {
   "cell_type": "markdown",
   "metadata": {},
   "source": [
    "## Oefening 11"
   ]
  },
  {
   "cell_type": "code",
   "execution_count": 38,
   "metadata": {},
   "outputs": [
    {
     "name": "stdout",
     "output_type": "stream",
     "text": [
      "Oorspronkelijke getallen: [-1, 2, -3, 4, -5, 6, -7, 8, -9, 10]\n",
      "Positieve en verdubbelde getallen: [4, 8, 12, 16, 20]\n",
      "Kwadraten van de positieve en verdubbelde getallen: [16, 64, 144, 256, 400]\n"
     ]
    }
   ],
   "source": [
    "numbers = [-1, 2, -3, 4, -5, 6, -7, 8, -9, 10]\n",
    "positive_doubled = [x * 2 for x in numbers if x > 0]\n",
    "squared = [(lambda x: x**2)(x) for x in positive_doubled]\n",
    "\n",
    "# Print de oorspronkelijke lijst, de gefilterde en verdubbelde lijst, en de lijst met kwadraten\n",
    "print(\"Oorspronkelijke getallen:\", numbers)\n",
    "print(\"Positieve en verdubbelde getallen:\", positive_doubled)\n",
    "print(\"Kwadraten van de positieve en verdubbelde getallen:\", squared)"
   ]
  },
  {
   "cell_type": "markdown",
   "metadata": {},
   "source": [
    "## Oefening 12"
   ]
  },
  {
   "cell_type": "code",
   "execution_count": 39,
   "metadata": {},
   "outputs": [],
   "source": [
    "temperaturen = [18, 22, 16, 25, 19, 23, 21, 20, 24]"
   ]
  },
  {
   "cell_type": "code",
   "execution_count": 40,
   "metadata": {},
   "outputs": [
    {
     "name": "stdout",
     "output_type": "stream",
     "text": [
      "Temperaturen boven de 20 graden Celsius (met filter): [22, 25, 23, 21, 24]\n"
     ]
    }
   ],
   "source": [
    "# Gebruik filter om de temperaturen boven de 20 graden Celsius te filteren\n",
    "warmere_temperaturen = list(filter(lambda x: x > 20, temperaturen))\n",
    "\n",
    "print(\"Temperaturen boven de 20 graden Celsius (met filter):\", warmere_temperaturen)"
   ]
  },
  {
   "cell_type": "code",
   "execution_count": 41,
   "metadata": {},
   "outputs": [
    {
     "name": "stdout",
     "output_type": "stream",
     "text": [
      "Temperaturen boven de 20 graden Celsius (met list comprehension): [22, 25, 23, 21, 24]\n"
     ]
    }
   ],
   "source": [
    "# Gebruik list comprehension voor dezelfde taak\n",
    "warmere_temperaturen_lc = [temp for temp in temperaturen if temp > 20]\n",
    "\n",
    "print(\"Temperaturen boven de 20 graden Celsius (met list comprehension):\", warmere_temperaturen_lc)\n"
   ]
  }
 ],
 "metadata": {
  "kernelspec": {
   "display_name": "Python 3",
   "language": "python",
   "name": "python3"
  },
  "language_info": {
   "codemirror_mode": {
    "name": "ipython",
    "version": 3
   },
   "file_extension": ".py",
   "mimetype": "text/x-python",
   "name": "python",
   "nbconvert_exporter": "python",
   "pygments_lexer": "ipython3",
   "version": "3.12.3"
  }
 },
 "nbformat": 4,
 "nbformat_minor": 2
}
