{
 "cells": [
  {
   "cell_type": "markdown",
   "metadata": {},
   "source": [
    "# Oefeningen"
   ]
  },
  {
   "cell_type": "markdown",
   "metadata": {},
   "source": [
    "## Oefening 1 (enumerate())\n",
    "\n",
    "Gegeven is een lijst van elementen:"
   ]
  },
  {
   "cell_type": "code",
   "execution_count": 1,
   "metadata": {},
   "outputs": [],
   "source": [
    "my_list = [\"Appel\", \"Banaan\", \"Kers\", \"Appel\", \"Peer\"]"
   ]
  },
  {
   "cell_type": "markdown",
   "metadata": {},
   "source": [
    "Schrijf een functie die de index van het eerste voorval van een gegeven element terug geeft. Als het element niet in de lijst voorkomt, retourneer -1. <br><br>Maak gebruik van `enumerate()`. **NIET van list.index()**.\n",
    "<br><br>\n",
    "`verwachte output met als input \"Appel\" = 0`"
   ]
  },
  {
   "cell_type": "code",
   "execution_count": 2,
   "metadata": {},
   "outputs": [],
   "source": [
    "#Aan jou!\n",
    "\n"
   ]
  },
  {
   "cell_type": "markdown",
   "metadata": {},
   "source": [
    "## Oefening 2 (zip())\n",
    "Gegeven zijn deze twee lijsten:"
   ]
  },
  {
   "cell_type": "code",
   "execution_count": 3,
   "metadata": {},
   "outputs": [],
   "source": [
    "list1 = [10, 20, 30, 40]\n",
    "list2 = [5, 15, 25, 35]"
   ]
  },
  {
   "cell_type": "markdown",
   "metadata": {},
   "source": [
    "maak een nieuwe lijst met de gemiddeldes van de twee lijsten samen. <br>\n",
    "Verwachte output:\n",
    "```py\n",
    "[7.5, 17.5, 27.5, 37.5]\n",
    "```"
   ]
  },
  {
   "cell_type": "code",
   "execution_count": 4,
   "metadata": {},
   "outputs": [],
   "source": [
    "#Aan jou!"
   ]
  },
  {
   "cell_type": "markdown",
   "metadata": {},
   "source": [
    "## Oefening 3 (zip() & enumerate())\n",
    "Gebruik deze twee lijsten die de dagen van de week bevatten in het Nederlands en het Engels\n"
   ]
  },
  {
   "cell_type": "code",
   "execution_count": 5,
   "metadata": {},
   "outputs": [],
   "source": [
    "weekdays_english = [\"Sun\", \"Mon\", \"Tue\", \"Wed\", \"Thu\",\"Fri\", \"Sat\"]\n",
    "\n",
    "weekdays_dutch = [\"zon\", \"ma\", \"di\", \"woe\", \"don\", \"vrij\",\"zat\"]"
   ]
  },
  {
   "cell_type": "markdown",
   "metadata": {},
   "source": [
    "1. Print een overzicht van de items op deze manier:\n",
    "   ```\n",
    "   ('Sun', 'zon')\n",
    "   ('Mon', 'ma')\n",
    "   ('Tue', 'di')\n",
    "   ('Wed', 'woe')\n",
    "   ('Thu', 'don')\n",
    "   ('Fri', 'vrij')\n",
    "   ('Sat', 'zat')\n",
    "   ```\n",
    "2. Verander de output zodat deze er als volgt uitziet:\n",
    "   ```\n",
    "   In english Sun = zon in dutch\n",
    "   In english Mon = ma in dutch\n",
    "   In english Tue = di in dutch\n",
    "   In english Wed = woe in dutch\n",
    "   In english Thu = don in dutch\n",
    "   In english Fri = vrij in dutch\n",
    "   In english Sat = zat in dutch\n",
    "   ```\n",
    "3. Voeg een counter toe aan de output:\n",
    "   ``` \n",
    "   1 Sun = zon in dutch\n",
    "   2 Mon = ma in dutch\n",
    "   3 Tue = di in dutch\n",
    "   4 Wed = woe in dutch\n",
    "   5 Thu = don in dutch\n",
    "   6 Fri = vrij in dutch\n",
    "   7 Sat = zat in dutch\n",
    "   ```\n"
   ]
  },
  {
   "cell_type": "code",
   "execution_count": 6,
   "metadata": {},
   "outputs": [],
   "source": [
    "#Aan jou!"
   ]
  },
  {
   "cell_type": "markdown",
   "metadata": {},
   "source": [
    "## Ooefening 4 (map())\n",
    "Schrijf eerst 2 functies om een binnenkomende temperatuur om te zetten van Fahrenheit [°F] naar Celsius [°C] en vice versa. Dit zijn de formules die je nodig hebt:\n",
    "\n",
    "![](https://latex.codecogs.com/svg.image?C=\\frac{5}{9}\\times&space;(F-32)&space;&space;)\n",
    "\n",
    "![](https://latex.codecogs.com/svg.image?F&space;=&space;\\frac{9}{5}\\times&space;C&space;&plus;&space;32)"
   ]
  },
  {
   "cell_type": "code",
   "execution_count": 7,
   "metadata": {},
   "outputs": [],
   "source": [
    "#Aan jou!"
   ]
  },
  {
   "cell_type": "markdown",
   "metadata": {},
   "source": [
    "Gebruik de volgende twee lijsten"
   ]
  },
  {
   "cell_type": "code",
   "execution_count": 8,
   "metadata": {},
   "outputs": [],
   "source": [
    "ctemps = [0, 12, 34, 100]\n",
    "\n",
    "ftemps = [32, 65, 100, 212]"
   ]
  },
  {
   "cell_type": "markdown",
   "metadata": {},
   "source": [
    "Roep vervolgens de gecreëerde functies aan om de lijsten naar de andere temperatuurschaal te converteren met behulp van `map()`.\n",
    "\n",
    "Als output geef je de twee bovenste lijsten omgevormd van Celsius naar Fahrenheit en vice versa:\n",
    "```Python\n",
    "Celcius: [0, 18, 37, 100]\t\n",
    "Fahrenheit:[32, 53, 93, 212]\n",
    "```"
   ]
  },
  {
   "cell_type": "code",
   "execution_count": 9,
   "metadata": {},
   "outputs": [],
   "source": [
    "#Aan jou!"
   ]
  },
  {
   "cell_type": "markdown",
   "metadata": {},
   "source": [
    "## Oefening 5 (Map() & Zip())\n",
    "Gegeven zijn twee lijsten. één met de nummers en één met de machten waar tot je de nummers moet verheffen\n"
   ]
  },
  {
   "cell_type": "code",
   "execution_count": 10,
   "metadata": {},
   "outputs": [],
   "source": [
    "numbers = [2, 3, 4, 5]\n",
    "powers = [2, 3, 4, 5]"
   ]
  },
  {
   "cell_type": "markdown",
   "metadata": {},
   "source": [
    "Schrijf een Python-programma dat deze twee lijsten neemt, en de lijst van getallen tot de macht van hun respectieve machten teruggeeft. Gebruik hiervoor `zip()` en `map()`.\n",
    "<br>\n",
    "<br>\n",
    "Print dit dan ook op een ietsjes uitgebreidere manier zoals hieronder. <br><br>\n",
    "Resultaat:\n",
    "\n",
    "```\n",
    "Getal\tMacht\tResultaat\n",
    "------------------------\n",
    "2\t2\t4\n",
    "3\t3\t27\n",
    "4\t4\t256\n",
    "5\t5\t3125\n",
    "```"
   ]
  },
  {
   "cell_type": "code",
   "execution_count": 11,
   "metadata": {},
   "outputs": [],
   "source": [
    "#Aan jou!"
   ]
  },
  {
   "cell_type": "markdown",
   "metadata": {},
   "source": [
    "## Oefening 6 (Filter())\n",
    "Schrijf een programma dat een lijst van strings filtert en alleen de strings teruggeeft waarvan de lengte deelbaar is door 3 (functie).\n",
    "Gebruik hiervoor de `filter`.\n",
    "<br>\n",
    "<br>\n",
    "Resultaat:\n",
    "\n",
    "``` py\n",
    "Strings met een lengte deelbaar door 3 zijn: ['banana', 'orange']\n",
    "```"
   ]
  },
  {
   "cell_type": "code",
   "execution_count": 12,
   "metadata": {},
   "outputs": [],
   "source": [
    "strings = [\"apple\", \"banana\", \"orange\", \"pear\", \"kiwi\", \"strawberry\"]"
   ]
  },
  {
   "cell_type": "code",
   "execution_count": 13,
   "metadata": {},
   "outputs": [],
   "source": [
    "#Aan jou!"
   ]
  },
  {
   "cell_type": "markdown",
   "metadata": {},
   "source": [
    "## Oefening 7 (List Comprehensions)\n",
    "\n",
    "Schrijf een Python-functie genaamd `product_except_self` die een lijst met gehele getallen als invoer neemt en een nieuwe lijst retourneert waarbij elk element het product is van alle andere elementen in de oorspronkelijke lijst, behalve het element zelf. Gebruik daarbij `list comprehension`.\n",
    "<br>\n",
    "<br>\n",
    "1 = 2 * 3 * 4<br>\n",
    "2 = 1 * 3 * 4<br>\n",
    "...\n",
    "<br>\n",
    "<br>\n",
    "Resultaat: `[24, 12, 8, 6]`<br>"
   ]
  },
  {
   "cell_type": "code",
   "execution_count": 14,
   "metadata": {},
   "outputs": [],
   "source": [
    "input_list = [1, 2, 3, 4]"
   ]
  },
  {
   "cell_type": "code",
   "execution_count": 15,
   "metadata": {},
   "outputs": [],
   "source": [
    "#Aan jou!"
   ]
  },
  {
   "cell_type": "markdown",
   "metadata": {},
   "source": [
    "## Oefening 8 (List Comprehension + Zip)\n",
    "\n",
    "Stel je hebt twee lijsten met de namen en scores van studenten voor verschillende vakken. <br>\n",
    "Je wilt een overzicht maken van de vakken waar elke student een score haalt van minstens 60. <br>\n",
    "Schrijf een Python-programma dat dit overzicht genereert, maak gebruik van `List Comprehension` en `Zip`.\n",
    "<br>Ga kijken bij voorbeelden van zip!\n",
    "<br>\n",
    "<br>\n",
    "Resultaat:\n",
    "\n",
    "```py\n",
    "Vakken met scores allemaal boven de 60:\n",
    "Geschiedenis: (80, 90, 70)\n",
    "```"
   ]
  },
  {
   "cell_type": "code",
   "execution_count": 16,
   "metadata": {},
   "outputs": [],
   "source": [
    "vakken = [\"Wiskunde\", \"Natuurkunde\", \"Geschiedenis\"]\n",
    "scores_student1 = [75, 55, 80]\n",
    "scores_student2 = [60, 70, 90]\n",
    "scores_student3 = [45, 65, 70]"
   ]
  },
  {
   "cell_type": "code",
   "execution_count": 17,
   "metadata": {},
   "outputs": [],
   "source": [
    "#Aan jou!"
   ]
  },
  {
   "cell_type": "markdown",
   "metadata": {},
   "source": [
    "## Exercise 9 (lambda & sorted())\n",
    "https://www.w3schools.com/python/ref_func_sorted.asp\n",
    "<br>Gegeven is een lijst van getallen:"
   ]
  },
  {
   "cell_type": "code",
   "execution_count": 18,
   "metadata": {},
   "outputs": [],
   "source": [
    "numbers = [5, 2, 8, 1, 3]"
   ]
  },
  {
   "cell_type": "markdown",
   "metadata": {},
   "source": [
    "sorteer deze getallen oplopend en aflopend en print dit op de output:\n",
    "```py\n",
    "    Oplopend gesorteerd: [1, 2, 3, 5, 8]\n",
    "    Aflopend gesorteerd: [8, 5, 3, 2, 1]\n",
    "```"
   ]
  },
  {
   "cell_type": "code",
   "execution_count": 19,
   "metadata": {},
   "outputs": [],
   "source": [
    "#Aan jou!\n"
   ]
  },
  {
   "cell_type": "markdown",
   "metadata": {},
   "source": [
    "## Exercise 10 (lambda & filter())\n",
    "Gegeven is een lijst van woorden:"
   ]
  },
  {
   "cell_type": "code",
   "execution_count": 20,
   "metadata": {},
   "outputs": [],
   "source": [
    "words = [\"appel\", \"banaan\", \"kiwi\", \"peer\", \"perzik\"]"
   ]
  },
  {
   "cell_type": "markdown",
   "metadata": {},
   "source": [
    "Geef een teken dat gezocht moet worden in deze woorden, alle woorden met het gegeven teken worden in een nieuwe lijst gezet.\n",
    "\n",
    "<br>\n",
    "Output:\n",
    "\n",
    "```py\n",
    "Woorden met het teken 'a': ['appel', 'banaan']\n",
    "```"
   ]
  },
  {
   "cell_type": "code",
   "execution_count": 21,
   "metadata": {},
   "outputs": [],
   "source": [
    "#Aan jou!"
   ]
  },
  {
   "cell_type": "markdown",
   "metadata": {},
   "source": [
    "## Exercise 11 (lambda & list comprehensions)\n",
    "Gegeven is een lijst met getallen:\n"
   ]
  },
  {
   "cell_type": "code",
   "execution_count": 22,
   "metadata": {},
   "outputs": [],
   "source": [
    "numbers = [-1, 2, -3, 4, -5, 6, -7, 8, -9, 10]\n"
   ]
  },
  {
   "cell_type": "markdown",
   "metadata": {},
   "source": [
    "Filter de positieve getallen en verdubbel ze (met list comprehensions)\n"
   ]
  },
  {
   "cell_type": "code",
   "execution_count": 23,
   "metadata": {},
   "outputs": [],
   "source": [
    "#Aan jou!"
   ]
  },
  {
   "cell_type": "markdown",
   "metadata": {},
   "source": [
    "Geef de kwadraten van elk getal van de verdubbelde lijst in de nieuwe lijst (met list comprehensions)\n"
   ]
  },
  {
   "cell_type": "code",
   "execution_count": 24,
   "metadata": {},
   "outputs": [],
   "source": [
    "#Aan jou!"
   ]
  },
  {
   "cell_type": "markdown",
   "metadata": {},
   "source": [
    "## Oefening 12 (Filter & Lambda & List Comprehension)\n",
    "\n",
    "Stel je voor dat je een lijst hebt met temperatuurmetingen in graden Celsius. Je wilt een nieuwe lijst maken die alleen de temperaturen bevat die hoger zijn dan 20 graden Celsius.\n",
    "<br>\n",
    "\n",
    "Resultaat:\n",
    "\n",
    "```\n",
    "[22, 25, 23, 21, 24]\n",
    "\n",
    "```"
   ]
  },
  {
   "cell_type": "code",
   "execution_count": 25,
   "metadata": {},
   "outputs": [],
   "source": [
    "temperaturen = [18, 22, 16, 25, 19, 23, 21, 20, 24]"
   ]
  },
  {
   "cell_type": "markdown",
   "metadata": {},
   "source": [
    "Los de oefening op met `filter()` en `lambda()`"
   ]
  },
  {
   "cell_type": "code",
   "execution_count": 26,
   "metadata": {},
   "outputs": [],
   "source": [
    "#Aan jou!"
   ]
  },
  {
   "cell_type": "markdown",
   "metadata": {},
   "source": [
    "Los de oefening op met `list comprehension`"
   ]
  },
  {
   "cell_type": "code",
   "execution_count": 27,
   "metadata": {},
   "outputs": [],
   "source": [
    "#Aan jou!"
   ]
  }
 ],
 "metadata": {
  "kernelspec": {
   "display_name": "Python 3",
   "language": "python",
   "name": "python3"
  },
  "language_info": {
   "codemirror_mode": {
    "name": "ipython",
    "version": 3
   },
   "file_extension": ".py",
   "mimetype": "text/x-python",
   "name": "python",
   "nbconvert_exporter": "python",
   "pygments_lexer": "ipython3",
   "version": "3.12.3"
  }
 },
 "nbformat": 4,
 "nbformat_minor": 2
}
